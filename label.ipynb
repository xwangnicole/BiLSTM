{
 "cells": [
  {
   "cell_type": "code",
   "execution_count": 10,
   "metadata": {
    "ExecuteTime": {
     "end_time": "2019-07-23T19:08:23.891412Z",
     "start_time": "2019-07-23T19:08:23.875808Z"
    },
    "scrolled": true
   },
   "outputs": [
    {
     "data": {
      "text/plain": [
       "Index(['Start Date', 'End Date', 'Response Received Date', 'Survey Name',\n",
       "       'Likelihood to Recommend-Value', 'Likely to Recommend Comment',\n",
       "       'Likely to Recommend Comment Tags', 'Improve Experience Comment',\n",
       "       'Improve Experience Comment Tags', 'Overall  Satisfaction-Value',\n",
       "       'Transaction Type', 'Transaction Location Description', 'Remove'],\n",
       "      dtype='object')"
      ]
     },
     "execution_count": 10,
     "metadata": {},
     "output_type": "execute_result"
    }
   ],
   "source": [
    "pd_text.columns"
   ]
  },
  {
   "cell_type": "code",
   "execution_count": 5,
   "metadata": {
    "ExecuteTime": {
     "end_time": "2019-05-16T01:40:47.613475Z",
     "start_time": "2019-05-16T01:40:47.582211Z"
    }
   },
   "outputs": [
    {
     "data": {
      "text/plain": [
       "array(['Start Date', 'End Date', 'Response Received Date', 'Survey Name',\n",
       "       'Likelihood to Recommend-Value', 'Likely to Recommend Comment',\n",
       "       'Likely to Recommend Comment Tags', 'Improve Experience Comment',\n",
       "       'Improve Experience Comment Tags', 'Overall  Satisfaction-Value',\n",
       "       'Transaction Type', 'Transaction Location Description', 'Remove'],\n",
       "      dtype=object)"
      ]
     },
     "execution_count": 5,
     "metadata": {},
     "output_type": "execute_result"
    }
   ],
   "source": [
    "pd_text.columns.values"
   ]
  },
  {
   "cell_type": "code",
   "execution_count": null,
   "metadata": {},
   "outputs": [],
   "source": []
  },
  {
   "cell_type": "code",
   "execution_count": 1,
   "metadata": {
    "ExecuteTime": {
     "end_time": "2019-07-23T19:02:21.636339Z",
     "start_time": "2019-07-23T19:02:19.042457Z"
    }
   },
   "outputs": [],
   "source": [
    "import pandas as pd\n",
    "import nltk\n",
    "import re\n",
    "import numpy as np"
   ]
  },
  {
   "cell_type": "code",
   "execution_count": 2,
   "metadata": {
    "ExecuteTime": {
     "end_time": "2019-07-23T19:02:25.659440Z",
     "start_time": "2019-07-23T19:02:21.636339Z"
    }
   },
   "outputs": [],
   "source": [
    "pd_text = pd.read_excel(\"C:/Users/nwang/Desktop/nlp/201801-201903ForNickA_text analytics.xlsx\")"
   ]
  },
  {
   "cell_type": "code",
   "execution_count": 11,
   "metadata": {
    "ExecuteTime": {
     "end_time": "2019-07-23T19:08:46.574409Z",
     "start_time": "2019-07-23T19:08:46.558793Z"
    }
   },
   "outputs": [
    {
     "data": {
      "text/plain": [
       "(13791,)"
      ]
     },
     "execution_count": 11,
     "metadata": {},
     "output_type": "execute_result"
    },
    {
     "data": {
      "text/plain": [
       "(13791,)"
      ]
     },
     "execution_count": 11,
     "metadata": {},
     "output_type": "execute_result"
    }
   ],
   "source": [
    "pd_text['Likelihood to Recommend-Value'].shape \n",
    "pd_text['Overall  Satisfaction-Value'].shape "
   ]
  },
  {
   "cell_type": "code",
   "execution_count": 11,
   "metadata": {
    "ExecuteTime": {
     "end_time": "2019-06-08T00:09:29.064356Z",
     "start_time": "2019-06-08T00:09:29.016685Z"
    }
   },
   "outputs": [],
   "source": [
    "tag = pd.read_excel(\"C:/Users/nwang/Desktop/nlp/_Automated Tag List.xlsx\",sheet_name='Original'\\\n",
    "             ,skiprows = 0,head=None)\n",
    "tag_lst = list(tag['Automated Tag Format'])\n",
    "tag_lst.append('x')"
   ]
  },
  {
   "cell_type": "code",
   "execution_count": 12,
   "metadata": {
    "ExecuteTime": {
     "end_time": "2019-06-08T00:09:29.094967Z",
     "start_time": "2019-06-08T00:09:29.064356Z"
    }
   },
   "outputs": [],
   "source": [
    "tag_rec = pd.DataFrame(columns=tag_lst)\n",
    "tag_exp = pd.DataFrame(columns=tag_lst)"
   ]
  },
  {
   "cell_type": "code",
   "execution_count": 13,
   "metadata": {
    "ExecuteTime": {
     "end_time": "2019-06-08T00:09:29.909633Z",
     "start_time": "2019-06-08T00:09:29.894009Z"
    }
   },
   "outputs": [],
   "source": [
    "comment = pd_text[['Likely to Recommend Comment',\n",
    "       'Likely to Recommend Comment Tags', 'Improve Experience Comment',\n",
    "       'Improve Experience Comment Tags']]"
   ]
  },
  {
   "cell_type": "code",
   "execution_count": null,
   "metadata": {},
   "outputs": [],
   "source": []
  },
  {
   "cell_type": "code",
   "execution_count": 14,
   "metadata": {
    "ExecuteTime": {
     "end_time": "2019-06-08T00:09:34.213548Z",
     "start_time": "2019-06-08T00:09:34.197921Z"
    }
   },
   "outputs": [],
   "source": [
    "def splitrow(string):\n",
    "    d={}\n",
    "    lst = re.split(',\\s*',string)\n",
    "    for i in lst:\n",
    "        tmp=[]\n",
    "        tmp = i.split('(')\n",
    "        d[tmp[0]]=tmp[1].replace(')','')\n",
    "    return d"
   ]
  },
  {
   "cell_type": "code",
   "execution_count": null,
   "metadata": {},
   "outputs": [],
   "source": [
    "for index, row in comment[['Likely to Recommend Comment Tags', 'Improve Experience Comment Tags']].iterrows():\n",
    "    print(index)\n",
    "    for tag in tag_lst:\n",
    "        string1=row['Likely to Recommend Comment Tags']\n",
    "        if string1 is not np.nan:\n",
    "            drec = splitrow(string1)\n",
    "            if tag in drec.keys():\n",
    "                tag_rec.loc[index, tag]=drec[tag]\n",
    "            else:\n",
    "                tag_rec.loc[index, tag]=np.nan\n",
    "        else:\n",
    "            tag_rec.loc[index,:]=np.nan\n",
    "        string2=row['Improve Experience Comment Tags']\n",
    "        if string2 is not np.nan:\n",
    "            dexp = splitrow(string2)\n",
    "            if tag in dexp.keys():\n",
    "                tag_exp.loc[index, tag]=dexp[tag]\n",
    "            else:\n",
    "                tag_exp.loc[index, tag]=np.nan\n",
    "        else:\n",
    "            tag_exp.loc[index,:]=np.nan"
   ]
  },
  {
   "cell_type": "code",
   "execution_count": 69,
   "metadata": {
    "ExecuteTime": {
     "end_time": "2019-05-22T22:01:46.301179Z",
     "start_time": "2019-05-22T22:01:46.269928Z"
    }
   },
   "outputs": [
    {
     "data": {
      "text/html": [
       "<div>\n",
       "<style scoped>\n",
       "    .dataframe tbody tr th:only-of-type {\n",
       "        vertical-align: middle;\n",
       "    }\n",
       "\n",
       "    .dataframe tbody tr th {\n",
       "        vertical-align: top;\n",
       "    }\n",
       "\n",
       "    .dataframe thead th {\n",
       "        text-align: right;\n",
       "    }\n",
       "</style>\n",
       "<table border=\"1\" class=\"dataframe\">\n",
       "  <thead>\n",
       "    <tr style=\"text-align: right;\">\n",
       "      <th></th>\n",
       "      <th>Accuracy</th>\n",
       "      <th>ATM</th>\n",
       "      <th>Business_Services</th>\n",
       "      <th>Cards</th>\n",
       "      <th>Communication</th>\n",
       "      <th>Community</th>\n",
       "      <th>Credit_Union_Difference</th>\n",
       "      <th>Denied_Loan</th>\n",
       "      <th>Do_Not_Recommend</th>\n",
       "      <th>Ease_Of_Use</th>\n",
       "      <th>...</th>\n",
       "      <th>Rates</th>\n",
       "      <th>Refreshments</th>\n",
       "      <th>Reputation_Love</th>\n",
       "      <th>Satisfied</th>\n",
       "      <th>Service_Quality</th>\n",
       "      <th>Statements</th>\n",
       "      <th>Survey_General</th>\n",
       "      <th>Video_Tellers</th>\n",
       "      <th>Wait_Time</th>\n",
       "      <th>x</th>\n",
       "    </tr>\n",
       "  </thead>\n",
       "  <tbody>\n",
       "    <tr>\n",
       "      <th>0</th>\n",
       "      <td>NaN</td>\n",
       "      <td>NaN</td>\n",
       "      <td>NaN</td>\n",
       "      <td>NaN</td>\n",
       "      <td>NaN</td>\n",
       "      <td>NaN</td>\n",
       "      <td>NaN</td>\n",
       "      <td>NaN</td>\n",
       "      <td>NaN</td>\n",
       "      <td>Negative</td>\n",
       "      <td>...</td>\n",
       "      <td>NaN</td>\n",
       "      <td>NaN</td>\n",
       "      <td>NaN</td>\n",
       "      <td>NaN</td>\n",
       "      <td>NaN</td>\n",
       "      <td>NaN</td>\n",
       "      <td>NaN</td>\n",
       "      <td>NaN</td>\n",
       "      <td>NaN</td>\n",
       "      <td>Negative</td>\n",
       "    </tr>\n",
       "    <tr>\n",
       "      <th>1</th>\n",
       "      <td>NaN</td>\n",
       "      <td>NaN</td>\n",
       "      <td>NaN</td>\n",
       "      <td>NaN</td>\n",
       "      <td>NaN</td>\n",
       "      <td>NaN</td>\n",
       "      <td>NaN</td>\n",
       "      <td>NaN</td>\n",
       "      <td>NaN</td>\n",
       "      <td>NaN</td>\n",
       "      <td>...</td>\n",
       "      <td>NaN</td>\n",
       "      <td>NaN</td>\n",
       "      <td>NaN</td>\n",
       "      <td>NaN</td>\n",
       "      <td>NaN</td>\n",
       "      <td>NaN</td>\n",
       "      <td>NaN</td>\n",
       "      <td>NaN</td>\n",
       "      <td>NaN</td>\n",
       "      <td>NaN</td>\n",
       "    </tr>\n",
       "    <tr>\n",
       "      <th>2</th>\n",
       "      <td>NaN</td>\n",
       "      <td>NaN</td>\n",
       "      <td>NaN</td>\n",
       "      <td>NaN</td>\n",
       "      <td>NaN</td>\n",
       "      <td>NaN</td>\n",
       "      <td>NaN</td>\n",
       "      <td>NaN</td>\n",
       "      <td>NaN</td>\n",
       "      <td>NaN</td>\n",
       "      <td>...</td>\n",
       "      <td>NaN</td>\n",
       "      <td>NaN</td>\n",
       "      <td>Positive</td>\n",
       "      <td>NaN</td>\n",
       "      <td>NaN</td>\n",
       "      <td>NaN</td>\n",
       "      <td>NaN</td>\n",
       "      <td>NaN</td>\n",
       "      <td>NaN</td>\n",
       "      <td>Mixed</td>\n",
       "    </tr>\n",
       "    <tr>\n",
       "      <th>3</th>\n",
       "      <td>NaN</td>\n",
       "      <td>NaN</td>\n",
       "      <td>NaN</td>\n",
       "      <td>NaN</td>\n",
       "      <td>NaN</td>\n",
       "      <td>NaN</td>\n",
       "      <td>NaN</td>\n",
       "      <td>NaN</td>\n",
       "      <td>NaN</td>\n",
       "      <td>NaN</td>\n",
       "      <td>...</td>\n",
       "      <td>NaN</td>\n",
       "      <td>NaN</td>\n",
       "      <td>NaN</td>\n",
       "      <td>NaN</td>\n",
       "      <td>NaN</td>\n",
       "      <td>NaN</td>\n",
       "      <td>NaN</td>\n",
       "      <td>NaN</td>\n",
       "      <td>NaN</td>\n",
       "      <td>Negative</td>\n",
       "    </tr>\n",
       "    <tr>\n",
       "      <th>4</th>\n",
       "      <td>NaN</td>\n",
       "      <td>NaN</td>\n",
       "      <td>NaN</td>\n",
       "      <td>NaN</td>\n",
       "      <td>NaN</td>\n",
       "      <td>NaN</td>\n",
       "      <td>NaN</td>\n",
       "      <td>NaN</td>\n",
       "      <td>NaN</td>\n",
       "      <td>NaN</td>\n",
       "      <td>...</td>\n",
       "      <td>NaN</td>\n",
       "      <td>NaN</td>\n",
       "      <td>NaN</td>\n",
       "      <td>NaN</td>\n",
       "      <td>NaN</td>\n",
       "      <td>NaN</td>\n",
       "      <td>NaN</td>\n",
       "      <td>NaN</td>\n",
       "      <td>NaN</td>\n",
       "      <td>Neutral</td>\n",
       "    </tr>\n",
       "  </tbody>\n",
       "</table>\n",
       "<p>5 rows × 37 columns</p>\n",
       "</div>"
      ],
      "text/plain": [
       "  Accuracy  ATM Business_Services Cards Communication Community  \\\n",
       "0      NaN  NaN               NaN   NaN           NaN       NaN   \n",
       "1      NaN  NaN               NaN   NaN           NaN       NaN   \n",
       "2      NaN  NaN               NaN   NaN           NaN       NaN   \n",
       "3      NaN  NaN               NaN   NaN           NaN       NaN   \n",
       "4      NaN  NaN               NaN   NaN           NaN       NaN   \n",
       "\n",
       "  Credit_Union_Difference Denied_Loan Do_Not_Recommend Ease_Of_Use  ... Rates  \\\n",
       "0                     NaN         NaN              NaN    Negative  ...   NaN   \n",
       "1                     NaN         NaN              NaN         NaN  ...   NaN   \n",
       "2                     NaN         NaN              NaN         NaN  ...   NaN   \n",
       "3                     NaN         NaN              NaN         NaN  ...   NaN   \n",
       "4                     NaN         NaN              NaN         NaN  ...   NaN   \n",
       "\n",
       "  Refreshments Reputation_Love Satisfied Service_Quality Statements  \\\n",
       "0          NaN             NaN       NaN             NaN        NaN   \n",
       "1          NaN             NaN       NaN             NaN        NaN   \n",
       "2          NaN        Positive       NaN             NaN        NaN   \n",
       "3          NaN             NaN       NaN             NaN        NaN   \n",
       "4          NaN             NaN       NaN             NaN        NaN   \n",
       "\n",
       "  Survey_General Video_Tellers Wait_Time         x  \n",
       "0            NaN           NaN       NaN  Negative  \n",
       "1            NaN           NaN       NaN       NaN  \n",
       "2            NaN           NaN       NaN     Mixed  \n",
       "3            NaN           NaN       NaN  Negative  \n",
       "4            NaN           NaN       NaN   Neutral  \n",
       "\n",
       "[5 rows x 37 columns]"
      ]
     },
     "execution_count": 69,
     "metadata": {},
     "output_type": "execute_result"
    }
   ],
   "source": [
    "tag_rec.shape,tag_exp.shape"
   ]
  },
  {
   "cell_type": "markdown",
   "metadata": {
    "ExecuteTime": {
     "end_time": "2019-05-22T22:08:44.289491Z",
     "start_time": "2019-05-22T22:08:29.898940Z"
    }
   },
   "source": [
    "tag_rec.to_excel('C:/Users/nwang/Desktop/nlp/tag_rec.xlsx',header=True,index=False)\n",
    "tag_exp.to_excel('C:/Users/nwang/Desktop/nlp/tag_exp.xlsx',header=True,index=False)"
   ]
  },
  {
   "cell_type": "code",
   "execution_count": 34,
   "metadata": {
    "ExecuteTime": {
     "end_time": "2019-07-23T19:26:14.867168Z",
     "start_time": "2019-07-23T19:26:12.851436Z"
    }
   },
   "outputs": [],
   "source": [
    "tag_recback = pd.read_excel('C:/Users/nwang/Desktop/nlp/tag_rec.xlsx')\n",
    "tag_expback =pd.read_excel('C:/Users/nwang/Desktop/nlp/tag_exp.xlsx')"
   ]
  },
  {
   "cell_type": "code",
   "execution_count": 35,
   "metadata": {
    "ExecuteTime": {
     "end_time": "2019-07-23T19:26:14.898794Z",
     "start_time": "2019-07-23T19:26:14.867168Z"
    }
   },
   "outputs": [],
   "source": [
    "tag_expback=tag_expback.append(tag_expback.loc[13788,:].to_dict(),ignore_index=True)"
   ]
  },
  {
   "cell_type": "code",
   "execution_count": 36,
   "metadata": {
    "ExecuteTime": {
     "end_time": "2019-07-23T19:26:14.912722Z",
     "start_time": "2019-07-23T19:26:14.898794Z"
    }
   },
   "outputs": [],
   "source": [
    "tag_recback['Recommend_score']=pd_text['Likelihood to Recommend-Value']\n",
    "tag_expback['Recommend_score']=pd_text['Likelihood to Recommend-Value']\n",
    "tag_expback['Satisfaction_Value']=pd_text['Overall  Satisfaction-Value']\n",
    "tag_recback['Satisfaction_Value']=pd_text['Overall  Satisfaction-Value']\n",
    "tag_recback['text']=pd_text['Likely to Recommend Comment']\n",
    "tag_expback['text']=pd_text['Improve Experience Comment']"
   ]
  },
  {
   "cell_type": "code",
   "execution_count": 37,
   "metadata": {
    "ExecuteTime": {
     "end_time": "2019-07-23T19:26:15.165322Z",
     "start_time": "2019-07-23T19:26:15.134065Z"
    }
   },
   "outputs": [
    {
     "data": {
      "text/plain": [
       "(13791, 40)"
      ]
     },
     "execution_count": 37,
     "metadata": {},
     "output_type": "execute_result"
    },
    {
     "data": {
      "text/plain": [
       "(13791, 40)"
      ]
     },
     "execution_count": 37,
     "metadata": {},
     "output_type": "execute_result"
    }
   ],
   "source": [
    "tag_recback.shape\n",
    "tag_expback.shape"
   ]
  },
  {
   "cell_type": "code",
   "execution_count": 40,
   "metadata": {
    "ExecuteTime": {
     "end_time": "2019-07-23T19:29:48.776105Z",
     "start_time": "2019-07-23T19:29:48.697962Z"
    }
   },
   "outputs": [
    {
     "data": {
      "text/plain": [
       "(27582, 40)"
      ]
     },
     "execution_count": 40,
     "metadata": {},
     "output_type": "execute_result"
    }
   ],
   "source": [
    "tag=pd.concat([tag_recback,tag_expback],ignore_index=True)\n",
    "tag.shape"
   ]
  },
  {
   "cell_type": "code",
   "execution_count": 44,
   "metadata": {
    "ExecuteTime": {
     "end_time": "2019-07-23T19:32:25.832080Z",
     "start_time": "2019-07-23T19:32:09.473320Z"
    }
   },
   "outputs": [],
   "source": [
    "tag.to_excel('C:/Users/nwang/Desktop/nlp/code/tag_w_score.xlsx',header=True,index=False)"
   ]
  },
  {
   "cell_type": "code",
   "execution_count": null,
   "metadata": {},
   "outputs": [],
   "source": []
  }
 ],
 "metadata": {
  "kernelspec": {
   "display_name": "Python 3",
   "language": "python",
   "name": "python3"
  },
  "language_info": {
   "codemirror_mode": {
    "name": "ipython",
    "version": 3
   },
   "file_extension": ".py",
   "mimetype": "text/x-python",
   "name": "python",
   "nbconvert_exporter": "python",
   "pygments_lexer": "ipython3",
   "version": "3.7.3"
  }
 },
 "nbformat": 4,
 "nbformat_minor": 2
}
