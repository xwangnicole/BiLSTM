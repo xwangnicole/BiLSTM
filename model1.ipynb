{
 "cells": [
  {
   "cell_type": "code",
   "execution_count": null,
   "metadata": {
    "ExecuteTime": {
     "start_time": "2019-06-29T03:10:33.233Z"
    }
   },
   "outputs": [
    {
     "name": "stdout",
     "output_type": "stream",
     "text": [
      "1561781433.5394952\n",
      "1561785033.6848516\n",
      "1561788633.811231\n",
      "1561792233.9726322\n"
     ]
    }
   ],
   "source": [
    "from time import time,sleep\n",
    "# print(time())\n",
    "while True:\n",
    "    sleep(3600)\n",
    "    print(time())"
   ]
  },
  {
   "cell_type": "code",
   "execution_count": 13,
   "metadata": {
    "ExecuteTime": {
     "end_time": "2019-07-23T19:42:08.887189Z",
     "start_time": "2019-07-23T19:42:08.871566Z"
    }
   },
   "outputs": [],
   "source": [
    "import nltk\n",
    "from nltk.corpus import stopwords\n",
    "from nltk.stem.snowball import SnowballStemmer\n",
    "import re, string\n",
    "import sys\n",
    "import pickle\n",
    "import warnings\n",
    "import os\n",
    "import csv\n",
    "import pandas as pd\n",
    "import numpy as np\n",
    "import matplotlib.pyplot as plt\n",
    "import seaborn as sns"
   ]
  },
  {
   "cell_type": "code",
   "execution_count": 2,
   "metadata": {
    "ExecuteTime": {
     "end_time": "2019-07-23T17:41:37.078092Z",
     "start_time": "2019-07-23T17:41:36.611837Z"
    },
    "code_folding": []
   },
   "outputs": [],
   "source": [
    "with open('C:/Users/nwang/Desktop/nlp/code/tag_cl_version2.pkl', 'rb') as infile:\n",
    "    df=pickle.load(infile)"
   ]
  },
  {
   "cell_type": "code",
   "execution_count": 3,
   "metadata": {
    "ExecuteTime": {
     "end_time": "2019-07-23T17:41:37.186766Z",
     "start_time": "2019-07-23T17:41:37.078092Z"
    }
   },
   "outputs": [
    {
     "data": {
      "text/html": [
       "<div>\n",
       "<style scoped>\n",
       "    .dataframe tbody tr th:only-of-type {\n",
       "        vertical-align: middle;\n",
       "    }\n",
       "\n",
       "    .dataframe tbody tr th {\n",
       "        vertical-align: top;\n",
       "    }\n",
       "\n",
       "    .dataframe thead th {\n",
       "        text-align: right;\n",
       "    }\n",
       "</style>\n",
       "<table border=\"1\" class=\"dataframe\">\n",
       "  <thead>\n",
       "    <tr style=\"text-align: right;\">\n",
       "      <th></th>\n",
       "      <th>Accuracy</th>\n",
       "      <th>ATM</th>\n",
       "      <th>Business_Services</th>\n",
       "      <th>Cards</th>\n",
       "      <th>Communication</th>\n",
       "      <th>Community</th>\n",
       "      <th>Credit_Union_Difference</th>\n",
       "      <th>Denied_Loan</th>\n",
       "      <th>Do_Not_Recommend</th>\n",
       "      <th>Ease_Of_Use</th>\n",
       "      <th>...</th>\n",
       "      <th>Refreshments</th>\n",
       "      <th>Reputation_Love</th>\n",
       "      <th>Satisfied</th>\n",
       "      <th>Service_Quality</th>\n",
       "      <th>Statements</th>\n",
       "      <th>Survey_General</th>\n",
       "      <th>Video_Tellers</th>\n",
       "      <th>Wait_Time</th>\n",
       "      <th>x</th>\n",
       "      <th>text</th>\n",
       "    </tr>\n",
       "  </thead>\n",
       "  <tbody>\n",
       "    <tr>\n",
       "      <th>0</th>\n",
       "      <td>NaN</td>\n",
       "      <td>NaN</td>\n",
       "      <td>NaN</td>\n",
       "      <td>NaN</td>\n",
       "      <td>NaN</td>\n",
       "      <td>NaN</td>\n",
       "      <td>NaN</td>\n",
       "      <td>NaN</td>\n",
       "      <td>NaN</td>\n",
       "      <td>NaN</td>\n",
       "      <td>...</td>\n",
       "      <td>NaN</td>\n",
       "      <td>NaN</td>\n",
       "      <td>NaN</td>\n",
       "      <td>NaN</td>\n",
       "      <td>NaN</td>\n",
       "      <td>NaN</td>\n",
       "      <td>NaN</td>\n",
       "      <td>Negative</td>\n",
       "      <td>Mixed</td>\n",
       "      <td>The interest rates are nice, but Alliant has p...</td>\n",
       "    </tr>\n",
       "    <tr>\n",
       "      <th>1</th>\n",
       "      <td>NaN</td>\n",
       "      <td>NaN</td>\n",
       "      <td>NaN</td>\n",
       "      <td>NaN</td>\n",
       "      <td>NaN</td>\n",
       "      <td>NaN</td>\n",
       "      <td>NaN</td>\n",
       "      <td>NaN</td>\n",
       "      <td>NaN</td>\n",
       "      <td>NaN</td>\n",
       "      <td>...</td>\n",
       "      <td>NaN</td>\n",
       "      <td>NaN</td>\n",
       "      <td>NaN</td>\n",
       "      <td>NaN</td>\n",
       "      <td>NaN</td>\n",
       "      <td>NaN</td>\n",
       "      <td>NaN</td>\n",
       "      <td>Positive</td>\n",
       "      <td>Positive</td>\n",
       "      <td>Good rates, fast transfers</td>\n",
       "    </tr>\n",
       "    <tr>\n",
       "      <th>2</th>\n",
       "      <td>NaN</td>\n",
       "      <td>Positive</td>\n",
       "      <td>NaN</td>\n",
       "      <td>NaN</td>\n",
       "      <td>NaN</td>\n",
       "      <td>NaN</td>\n",
       "      <td>NaN</td>\n",
       "      <td>NaN</td>\n",
       "      <td>NaN</td>\n",
       "      <td>Positive</td>\n",
       "      <td>...</td>\n",
       "      <td>NaN</td>\n",
       "      <td>NaN</td>\n",
       "      <td>NaN</td>\n",
       "      <td>NaN</td>\n",
       "      <td>NaN</td>\n",
       "      <td>NaN</td>\n",
       "      <td>NaN</td>\n",
       "      <td>NaN</td>\n",
       "      <td>Positive</td>\n",
       "      <td>Great interest rates on both checking and savi...</td>\n",
       "    </tr>\n",
       "    <tr>\n",
       "      <th>3</th>\n",
       "      <td>NaN</td>\n",
       "      <td>NaN</td>\n",
       "      <td>NaN</td>\n",
       "      <td>NaN</td>\n",
       "      <td>NaN</td>\n",
       "      <td>NaN</td>\n",
       "      <td>NaN</td>\n",
       "      <td>NaN</td>\n",
       "      <td>NaN</td>\n",
       "      <td>Positive</td>\n",
       "      <td>...</td>\n",
       "      <td>NaN</td>\n",
       "      <td>NaN</td>\n",
       "      <td>NaN</td>\n",
       "      <td>NaN</td>\n",
       "      <td>NaN</td>\n",
       "      <td>NaN</td>\n",
       "      <td>NaN</td>\n",
       "      <td>NaN</td>\n",
       "      <td>Positive</td>\n",
       "      <td>Very convenient, and great rates</td>\n",
       "    </tr>\n",
       "    <tr>\n",
       "      <th>4</th>\n",
       "      <td>NaN</td>\n",
       "      <td>NaN</td>\n",
       "      <td>NaN</td>\n",
       "      <td>NaN</td>\n",
       "      <td>NaN</td>\n",
       "      <td>NaN</td>\n",
       "      <td>NaN</td>\n",
       "      <td>NaN</td>\n",
       "      <td>NaN</td>\n",
       "      <td>NaN</td>\n",
       "      <td>...</td>\n",
       "      <td>NaN</td>\n",
       "      <td>NaN</td>\n",
       "      <td>NaN</td>\n",
       "      <td>Positive</td>\n",
       "      <td>NaN</td>\n",
       "      <td>NaN</td>\n",
       "      <td>NaN</td>\n",
       "      <td>NaN</td>\n",
       "      <td>Positive</td>\n",
       "      <td>Excellent rates, service, website</td>\n",
       "    </tr>\n",
       "  </tbody>\n",
       "</table>\n",
       "<p>5 rows × 38 columns</p>\n",
       "</div>"
      ],
      "text/plain": [
       "  Accuracy       ATM Business_Services Cards Communication Community  \\\n",
       "0      NaN       NaN               NaN   NaN           NaN       NaN   \n",
       "1      NaN       NaN               NaN   NaN           NaN       NaN   \n",
       "2      NaN  Positive               NaN   NaN           NaN       NaN   \n",
       "3      NaN       NaN               NaN   NaN           NaN       NaN   \n",
       "4      NaN       NaN               NaN   NaN           NaN       NaN   \n",
       "\n",
       "  Credit_Union_Difference Denied_Loan Do_Not_Recommend Ease_Of_Use  ...  \\\n",
       "0                     NaN         NaN              NaN         NaN  ...   \n",
       "1                     NaN         NaN              NaN         NaN  ...   \n",
       "2                     NaN         NaN              NaN    Positive  ...   \n",
       "3                     NaN         NaN              NaN    Positive  ...   \n",
       "4                     NaN         NaN              NaN         NaN  ...   \n",
       "\n",
       "  Refreshments Reputation_Love Satisfied Service_Quality Statements  \\\n",
       "0          NaN             NaN       NaN             NaN        NaN   \n",
       "1          NaN             NaN       NaN             NaN        NaN   \n",
       "2          NaN             NaN       NaN             NaN        NaN   \n",
       "3          NaN             NaN       NaN             NaN        NaN   \n",
       "4          NaN             NaN       NaN        Positive        NaN   \n",
       "\n",
       "  Survey_General Video_Tellers Wait_Time         x  \\\n",
       "0            NaN           NaN  Negative     Mixed   \n",
       "1            NaN           NaN  Positive  Positive   \n",
       "2            NaN           NaN       NaN  Positive   \n",
       "3            NaN           NaN       NaN  Positive   \n",
       "4            NaN           NaN       NaN  Positive   \n",
       "\n",
       "                                                text  \n",
       "0  The interest rates are nice, but Alliant has p...  \n",
       "1                         Good rates, fast transfers  \n",
       "2  Great interest rates on both checking and savi...  \n",
       "3                   Very convenient, and great rates  \n",
       "4                  Excellent rates, service, website  \n",
       "\n",
       "[5 rows x 38 columns]"
      ]
     },
     "execution_count": 3,
     "metadata": {},
     "output_type": "execute_result"
    }
   ],
   "source": [
    "df.head(5)"
   ]
  },
  {
   "cell_type": "code",
   "execution_count": null,
   "metadata": {},
   "outputs": [],
   "source": [
    "q1=df.iloc[:13791,['x','text']]\n",
    "q2=df.iloc[:13791,['x','text']]"
   ]
  },
  {
   "cell_type": "code",
   "execution_count": 12,
   "metadata": {
    "ExecuteTime": {
     "end_time": "2019-07-23T17:48:37.971003Z",
     "start_time": "2019-07-23T17:48:37.939760Z"
    }
   },
   "outputs": [
    {
     "data": {
      "text/plain": [
       "Int64Index([13790], dtype='int64')"
      ]
     },
     "execution_count": 12,
     "metadata": {},
     "output_type": "execute_result"
    }
   ],
   "source": [
    "df[df['text']=='Representatives are very knowledgeable and if they don\\'t know the answer they try to get an answer for you immediately.'].index"
   ]
  },
  {
   "cell_type": "code",
   "execution_count": 54,
   "metadata": {
    "ExecuteTime": {
     "end_time": "2019-06-08T02:59:17.222009Z",
     "start_time": "2019-06-08T02:59:17.190757Z"
    }
   },
   "outputs": [],
   "source": [
    "def clen(x):\n",
    "    return len(x.split())"
   ]
  },
  {
   "cell_type": "code",
   "execution_count": 108,
   "metadata": {
    "ExecuteTime": {
     "end_time": "2019-06-08T04:00:05.977201Z",
     "start_time": "2019-06-08T04:00:05.899064Z"
    }
   },
   "outputs": [],
   "source": [
    "df['xlen'] = df['text'].apply(clen)"
   ]
  },
  {
   "cell_type": "code",
   "execution_count": 109,
   "metadata": {
    "ExecuteTime": {
     "end_time": "2019-06-08T04:00:06.360714Z",
     "start_time": "2019-06-08T04:00:06.329470Z"
    }
   },
   "outputs": [],
   "source": [
    "df=df.loc[df['xlen']==10]"
   ]
  },
  {
   "cell_type": "code",
   "execution_count": null,
   "metadata": {},
   "outputs": [],
   "source": [
    "np.asarray(text)"
   ]
  },
  {
   "cell_type": "code",
   "execution_count": 110,
   "metadata": {
    "ExecuteTime": {
     "end_time": "2019-06-08T04:00:09.104956Z",
     "start_time": "2019-06-08T04:00:09.073707Z"
    }
   },
   "outputs": [],
   "source": [
    "y_3=df['x'].loc[df['x']==3].values[:100]\n",
    "x_3=df['text'].loc[df['x']==3].values[:100]\n",
    "y_2=df['x'].loc[df['x']==2].values[:100]\n",
    "x_2=df['text'].loc[df['x']==2].values[:100]\n",
    "y_1=df['x'].loc[df['x']==1].values[:100]\n",
    "x_1=df['text'].loc[df['x']==1].values[:100]\n",
    "y_0=df['x'].loc[df['x']==0].values[:100]\n",
    "x_0=df['text'].loc[df['x']==0].values[:100]"
   ]
  },
  {
   "cell_type": "code",
   "execution_count": 111,
   "metadata": {
    "ExecuteTime": {
     "end_time": "2019-06-08T04:00:09.723359Z",
     "start_time": "2019-06-08T04:00:09.707744Z"
    }
   },
   "outputs": [
    {
     "data": {
      "text/plain": [
       "(247, 247)"
      ]
     },
     "execution_count": 111,
     "metadata": {},
     "output_type": "execute_result"
    }
   ],
   "source": [
    "y=np.append(np.append(y_3,y_2),np.append(y_1,y_0))\n",
    "x=np.append(np.append(x_3,x_2),np.append(x_1,x_0))\n",
    "len(x),len(y)"
   ]
  },
  {
   "cell_type": "code",
   "execution_count": 83,
   "metadata": {
    "ExecuteTime": {
     "end_time": "2019-06-08T03:16:11.720253Z",
     "start_time": "2019-06-08T03:16:11.689004Z"
    }
   },
   "outputs": [
    {
     "data": {
      "text/plain": [
       "(array(['We are very happy and satisfied with Alliant Credit Union',\n",
       "        'Interest rates on savings is higher than most other banks',\n",
       "        'Excellent service Helpful when transferring funds All around excellent service',\n",
       "        'Good rates helpful feels like you re on my side',\n",
       "        'Never had any problems here much better rates than banks',\n",
       "        'very secured and always help if you have a problem',\n",
       "        'Customer Service at SM Branch is always helpful and courteous',\n",
       "        'The credit Unionhas always been very helpful with my problems',\n",
       "        'very good service and fair interest return to the CD',\n",
       "        'Because I have recommended people and they have opened accounts'],\n",
       "       dtype=object), array([3, 3, 3, 3, 3, 3, 3, 3, 3, 3]))"
      ]
     },
     "execution_count": 83,
     "metadata": {},
     "output_type": "execute_result"
    }
   ],
   "source": []
  },
  {
   "cell_type": "markdown",
   "metadata": {},
   "source": [
    "## LSTM"
   ]
  },
  {
   "cell_type": "code",
   "execution_count": 7,
   "metadata": {
    "ExecuteTime": {
     "end_time": "2019-06-08T02:14:51.633165Z",
     "start_time": "2019-06-08T02:14:49.679512Z"
    }
   },
   "outputs": [
    {
     "name": "stderr",
     "output_type": "stream",
     "text": [
      "Using TensorFlow backend.\n"
     ]
    }
   ],
   "source": [
    "from keras.models import Model, Sequential\n",
    "from keras.layers import Input, Dense, Activation\n",
    "from sklearn.model_selection import train_test_split\n",
    "import os\n",
    "os.environ['KMP_DUPLICATE_LIB_OK']='True'\n",
    "\n",
    "import numpy as np\n",
    "from keras.layers import Dense, Input, Dropout, LSTM, Activation, Embedding\n",
    "from keras.preprocessing import sequence\n",
    "np.random.seed(1)"
   ]
  },
  {
   "cell_type": "code",
   "execution_count": 7,
   "metadata": {
    "ExecuteTime": {
     "end_time": "2019-06-18T19:58:19.362497Z",
     "start_time": "2019-06-18T19:58:19.346813Z"
    }
   },
   "outputs": [],
   "source": [
    "def sigmoid(Z):\n",
    "    '''sigmoid function for matrix Z'''\n",
    "    return 1/(1 + np.exp(-Z))\n",
    "\n",
    "def softmax(x):\n",
    "    \"\"\"Compute softmax values for each sets of scores in x.\"\"\"\n",
    "    e_x = np.exp(x - np.max(x))\n",
    "    return e_x / e_x.sum()\n",
    "\n",
    "def read_glove_vec(glove_file):\n",
    "    with open(glove_file,encoding=\"utf8\") as f:\n",
    "        words = set()\n",
    "        word_to_vec_map = {}\n",
    "        for line in f:\n",
    "            line = line.strip().split()\n",
    "            curr_word = line[0]\n",
    "            words.add(curr_word)\n",
    "            word_to_vec_map[curr_word] = np.array(line[1:], dtype=np.float64)\n",
    "        \n",
    "        i = 1\n",
    "        words_to_index = {}\n",
    "        for w in sorted(words):\n",
    "            words_to_index[w] = i\n",
    "            i = i + 1\n",
    "    return words_to_index, word_to_vec_map"
   ]
  },
  {
   "cell_type": "code",
   "execution_count": 112,
   "metadata": {
    "ExecuteTime": {
     "end_time": "2019-06-08T04:00:14.055770Z",
     "start_time": "2019-06-08T04:00:14.040145Z"
    }
   },
   "outputs": [
    {
     "name": "stdout",
     "output_type": "stream",
     "text": [
      "10\n"
     ]
    }
   ],
   "source": [
    "X_train, X_test, Y_train, Y_test=train_test_split(x, y, test_size=0.3,shuffle=True,random_state=67)\n",
    "maxlen = len(max(x, key=len).split())\n",
    "print(maxlen)"
   ]
  },
  {
   "cell_type": "code",
   "execution_count": 8,
   "metadata": {
    "ExecuteTime": {
     "end_time": "2019-06-18T19:58:38.818696Z",
     "start_time": "2019-06-18T19:58:22.847206Z"
    }
   },
   "outputs": [],
   "source": [
    "word_to_index, word_to_vec_map = read_glove_vec('C:/Users/nwang/Desktop/nlp/glove.6B.50d.txt')"
   ]
  },
  {
   "cell_type": "code",
   "execution_count": 11,
   "metadata": {
    "ExecuteTime": {
     "end_time": "2019-06-08T02:15:09.537223Z",
     "start_time": "2019-06-08T02:15:09.524410Z"
    }
   },
   "outputs": [],
   "source": [
    "def pretrained_embedding_layer(word_to_vec_map, word_to_index):\n",
    "    \n",
    "    # Keras requires vocab length start from index 1\n",
    "    vocab_len = len(word_to_index) + 1  \n",
    "    emb_dim = list(word_to_vec_map.values())[0].shape[0]\n",
    "    \n",
    "    # Initialize the embedding matrix as a numpy array of zeros of shape (vocab_len, dimensions of word vectors = emb_dim)\n",
    "    emb_matrix = np.zeros((vocab_len, emb_dim))\n",
    "    \n",
    "    # Set each row \"index\" of the embedding matrix to be the word vector representation of the \"index\"th word of the vocabulary\n",
    "    for word, index in word_to_index.items():\n",
    "        emb_matrix[index, :] = word_to_vec_map[word]\n",
    "\n",
    "    # Define Keras embedding layer with the correct output/input sizes, make it trainable. Use Embedding(...). Make sure to set trainable=False. \n",
    "    return Embedding(\n",
    "        input_dim=vocab_len, \n",
    "        output_dim=emb_dim, \n",
    "        trainable=False,  # Indicating this is a pre-trained embedding \n",
    "        weights=[emb_matrix])"
   ]
  },
  {
   "cell_type": "code",
   "execution_count": 62,
   "metadata": {
    "ExecuteTime": {
     "end_time": "2019-06-08T03:01:00.179119Z",
     "start_time": "2019-06-08T03:01:00.163504Z"
    }
   },
   "outputs": [],
   "source": [
    "def np_model(input_shape, word_to_vec_map, word_to_index):\n",
    "    # Input layer\n",
    "    sentence_indices = Input(shape=input_shape, dtype='int32')\n",
    "    \n",
    "    # Embedding layer\n",
    "    embedding_layer = pretrained_embedding_layer(word_to_vec_map, word_to_index)\n",
    "    embeddings = embedding_layer(sentence_indices)   \n",
    "    \n",
    "    # 2-layer LSTM\n",
    "    X = LSTM(128, return_sequences=True, recurrent_dropout=0.5)(embeddings)  # N->N RNN\n",
    "    X = Dropout(0.5)(X)\n",
    "    X = LSTM(128, return_sequences=True, recurrent_dropout=0.5)(embeddings)  # N->N RNN\n",
    "    X = Dropout(0.5)(X)\n",
    "    X = LSTM(128, recurrent_dropout=0.5)(X)  # N -> 1 RNN\n",
    "    X = Dropout(0.5)(X)\n",
    "    X = Dense(4, activation='softmax')(X)\n",
    "    \n",
    "    # Create and return model\n",
    "    model = Model(inputs=sentence_indices, outputs=X)\n",
    "    \n",
    "    return model"
   ]
  },
  {
   "cell_type": "code",
   "execution_count": 63,
   "metadata": {
    "ExecuteTime": {
     "end_time": "2019-06-08T03:01:06.521584Z",
     "start_time": "2019-06-08T03:01:01.680611Z"
    }
   },
   "outputs": [
    {
     "name": "stdout",
     "output_type": "stream",
     "text": [
      "_________________________________________________________________\n",
      "Layer (type)                 Output Shape              Param #   \n",
      "=================================================================\n",
      "input_5 (InputLayer)         (None, 10)                0         \n",
      "_________________________________________________________________\n",
      "embedding_5 (Embedding)      (None, 10, 50)            20000050  \n",
      "_________________________________________________________________\n",
      "lstm_11 (LSTM)               (None, 10, 128)           91648     \n",
      "_________________________________________________________________\n",
      "dropout_11 (Dropout)         (None, 10, 128)           0         \n",
      "_________________________________________________________________\n",
      "lstm_12 (LSTM)               (None, 128)               131584    \n",
      "_________________________________________________________________\n",
      "dropout_12 (Dropout)         (None, 128)               0         \n",
      "_________________________________________________________________\n",
      "dense_5 (Dense)              (None, 4)                 516       \n",
      "=================================================================\n",
      "Total params: 20,223,798\n",
      "Trainable params: 223,748\n",
      "Non-trainable params: 20,000,050\n",
      "_________________________________________________________________\n"
     ]
    }
   ],
   "source": [
    "model = np_model((maxlen,), word_to_vec_map, word_to_index)\n",
    "model.summary()"
   ]
  },
  {
   "cell_type": "code",
   "execution_count": 64,
   "metadata": {
    "ExecuteTime": {
     "end_time": "2019-06-08T03:01:11.000141Z",
     "start_time": "2019-06-08T03:01:10.922011Z"
    }
   },
   "outputs": [],
   "source": [
    "model.compile(\n",
    "    loss='categorical_crossentropy', \n",
    "    optimizer='adam', \n",
    "#     metrics=[auc])\n",
    "    metrics=['accuracy'])"
   ]
  },
  {
   "cell_type": "code",
   "execution_count": 4,
   "metadata": {
    "ExecuteTime": {
     "end_time": "2019-06-18T19:57:32.554066Z",
     "start_time": "2019-06-18T19:57:32.522829Z"
    }
   },
   "outputs": [],
   "source": [
    "def sentences_to_indice(X, word_to_index, max_len):\n",
    "    m = X.shape[0]\n",
    "    X_indices = np.zeros((m, max_len))\n",
    "    \n",
    "    for i in range(m):\n",
    "        sentence_words = X[i].lower().split()\n",
    "        j = 0\n",
    "        for w in sentence_words:\n",
    "            try:\n",
    "                X_indices[i, j] = word_to_index[w]\n",
    "                j = j + 1\n",
    "            except:\n",
    "                X_indices[i, j] = word_to_index['unk']\n",
    "                j = j + 1\n",
    "         \n",
    "    return X_indices"
   ]
  },
  {
   "cell_type": "code",
   "execution_count": 113,
   "metadata": {
    "ExecuteTime": {
     "end_time": "2019-06-08T04:00:20.667830Z",
     "start_time": "2019-06-08T04:00:20.652212Z"
    }
   },
   "outputs": [],
   "source": [
    "X_train_indices = sentences_to_indice(X_train, word_to_index, maxlen)\n",
    "X_test_indices = sentences_to_indice(X_test, word_to_index, maxlen)"
   ]
  },
  {
   "cell_type": "code",
   "execution_count": 67,
   "metadata": {
    "ExecuteTime": {
     "end_time": "2019-06-08T03:01:22.771230Z",
     "start_time": "2019-06-08T03:01:22.755601Z"
    }
   },
   "outputs": [],
   "source": [
    "def convert_to_one_hot(Y, C):\n",
    "    Y = np.eye(C)[Y.reshape(-1)]\n",
    "    return Y"
   ]
  },
  {
   "cell_type": "code",
   "execution_count": 114,
   "metadata": {
    "ExecuteTime": {
     "end_time": "2019-06-08T04:00:23.649570Z",
     "start_time": "2019-06-08T04:00:23.618320Z"
    }
   },
   "outputs": [],
   "source": [
    "Y_train_oh = convert_to_one_hot(Y_train, C = 4)\n",
    "Y_test_oh = convert_to_one_hot(Y_test, C = 4)"
   ]
  },
  {
   "cell_type": "code",
   "execution_count": 115,
   "metadata": {
    "ExecuteTime": {
     "end_time": "2019-06-08T04:00:47.931780Z",
     "start_time": "2019-06-08T04:00:26.677099Z"
    },
    "scrolled": true
   },
   "outputs": [
    {
     "name": "stdout",
     "output_type": "stream",
     "text": [
      "Epoch 1/50\n",
      "172/172 [==============================] - 0s 3ms/step - loss: 0.0235 - acc: 0.9942\n",
      "Epoch 2/50\n",
      "172/172 [==============================] - 0s 3ms/step - loss: 0.0060 - acc: 1.0000\n",
      "Epoch 3/50\n",
      "172/172 [==============================] - 0s 2ms/step - loss: 0.0137 - acc: 0.9942\n",
      "Epoch 4/50\n",
      "172/172 [==============================] - 0s 2ms/step - loss: 0.0105 - acc: 1.0000\n",
      "Epoch 5/50\n",
      "172/172 [==============================] - 0s 2ms/step - loss: 0.0084 - acc: 1.0000\n",
      "Epoch 6/50\n",
      "172/172 [==============================] - 0s 3ms/step - loss: 0.0148 - acc: 1.0000\n",
      "Epoch 7/50\n",
      "172/172 [==============================] - 0s 2ms/step - loss: 0.0167 - acc: 0.9942\n",
      "Epoch 8/50\n",
      "172/172 [==============================] - 0s 2ms/step - loss: 0.0234 - acc: 0.9884\n",
      "Epoch 9/50\n",
      "172/172 [==============================] - 0s 2ms/step - loss: 0.0176 - acc: 0.9942\n",
      "Epoch 10/50\n",
      "172/172 [==============================] - 0s 2ms/step - loss: 0.0224 - acc: 0.9884\n",
      "Epoch 11/50\n",
      "172/172 [==============================] - 0s 2ms/step - loss: 0.0178 - acc: 0.9942\n",
      "Epoch 12/50\n",
      "172/172 [==============================] - 0s 2ms/step - loss: 0.0149 - acc: 0.9942\n",
      "Epoch 13/50\n",
      "172/172 [==============================] - 0s 2ms/step - loss: 0.0187 - acc: 0.9942\n",
      "Epoch 14/50\n",
      "172/172 [==============================] - 0s 2ms/step - loss: 0.0151 - acc: 0.9942\n",
      "Epoch 15/50\n",
      "172/172 [==============================] - 0s 2ms/step - loss: 0.0478 - acc: 0.9826\n",
      "Epoch 16/50\n",
      "172/172 [==============================] - 0s 2ms/step - loss: 0.0328 - acc: 0.9884\n",
      "Epoch 17/50\n",
      "172/172 [==============================] - 0s 2ms/step - loss: 0.0134 - acc: 0.9942\n",
      "Epoch 18/50\n",
      "172/172 [==============================] - 0s 2ms/step - loss: 0.0821 - acc: 0.9826\n",
      "Epoch 19/50\n",
      "172/172 [==============================] - 0s 2ms/step - loss: 0.0075 - acc: 1.0000\n",
      "Epoch 20/50\n",
      "172/172 [==============================] - 0s 2ms/step - loss: 0.0441 - acc: 0.9826\n",
      "Epoch 21/50\n",
      "172/172 [==============================] - 0s 2ms/step - loss: 0.0126 - acc: 1.0000\n",
      "Epoch 22/50\n",
      "172/172 [==============================] - 0s 2ms/step - loss: 0.0395 - acc: 0.9884\n",
      "Epoch 23/50\n",
      "172/172 [==============================] - 0s 2ms/step - loss: 0.0103 - acc: 1.0000\n",
      "Epoch 24/50\n",
      "172/172 [==============================] - 0s 2ms/step - loss: 0.0265 - acc: 0.9942\n",
      "Epoch 25/50\n",
      "172/172 [==============================] - 0s 2ms/step - loss: 0.0104 - acc: 1.0000\n",
      "Epoch 26/50\n",
      "172/172 [==============================] - 0s 2ms/step - loss: 0.0115 - acc: 1.0000\n",
      "Epoch 27/50\n",
      "172/172 [==============================] - 0s 2ms/step - loss: 0.0171 - acc: 0.9942\n",
      "Epoch 28/50\n",
      "172/172 [==============================] - 0s 2ms/step - loss: 0.0050 - acc: 1.0000\n",
      "Epoch 29/50\n",
      "172/172 [==============================] - 0s 3ms/step - loss: 0.0092 - acc: 1.0000\n",
      "Epoch 30/50\n",
      "172/172 [==============================] - 0s 2ms/step - loss: 0.0104 - acc: 0.9942\n",
      "Epoch 31/50\n",
      "172/172 [==============================] - 0s 2ms/step - loss: 0.0139 - acc: 0.9942\n",
      "Epoch 32/50\n",
      "172/172 [==============================] - 0s 2ms/step - loss: 0.0062 - acc: 1.0000\n",
      "Epoch 33/50\n",
      "172/172 [==============================] - 0s 2ms/step - loss: 0.0078 - acc: 1.0000\n",
      "Epoch 34/50\n",
      "172/172 [==============================] - 0s 2ms/step - loss: 0.0205 - acc: 0.9884\n",
      "Epoch 35/50\n",
      "172/172 [==============================] - 0s 2ms/step - loss: 0.0285 - acc: 0.9884\n",
      "Epoch 36/50\n",
      "172/172 [==============================] - 0s 2ms/step - loss: 0.0023 - acc: 1.0000\n",
      "Epoch 37/50\n",
      "172/172 [==============================] - 0s 2ms/step - loss: 0.0050 - acc: 1.0000\n",
      "Epoch 38/50\n",
      "172/172 [==============================] - 0s 2ms/step - loss: 0.0214 - acc: 0.9884\n",
      "Epoch 39/50\n",
      "172/172 [==============================] - 0s 2ms/step - loss: 0.0047 - acc: 1.0000\n",
      "Epoch 40/50\n",
      "172/172 [==============================] - 0s 2ms/step - loss: 0.0090 - acc: 0.9942\n",
      "Epoch 41/50\n",
      "172/172 [==============================] - 0s 2ms/step - loss: 0.0326 - acc: 0.9942\n",
      "Epoch 42/50\n",
      "172/172 [==============================] - 0s 2ms/step - loss: 0.0047 - acc: 1.0000\n",
      "Epoch 43/50\n",
      "172/172 [==============================] - 0s 2ms/step - loss: 0.0112 - acc: 0.9942\n",
      "Epoch 44/50\n",
      "172/172 [==============================] - 0s 2ms/step - loss: 0.0040 - acc: 1.0000\n",
      "Epoch 45/50\n",
      "172/172 [==============================] - 0s 2ms/step - loss: 0.0046 - acc: 1.0000\n",
      "Epoch 46/50\n",
      "172/172 [==============================] - 0s 2ms/step - loss: 0.0068 - acc: 1.0000\n",
      "Epoch 47/50\n",
      "172/172 [==============================] - 0s 2ms/step - loss: 0.0040 - acc: 1.0000\n",
      "Epoch 48/50\n",
      "172/172 [==============================] - 0s 2ms/step - loss: 0.0077 - acc: 1.0000\n",
      "Epoch 49/50\n",
      "172/172 [==============================] - 0s 2ms/step - loss: 0.0047 - acc: 1.0000\n",
      "Epoch 50/50\n",
      "172/172 [==============================] - 0s 3ms/step - loss: 0.0166 - acc: 0.9942\n"
     ]
    }
   ],
   "source": [
    "history = model.fit(\n",
    "    X_train_indices, \n",
    "    Y_train_oh, \n",
    "    epochs = 50, \n",
    "    batch_size = 32, \n",
    "    shuffle=True)"
   ]
  },
  {
   "cell_type": "code",
   "execution_count": 116,
   "metadata": {
    "ExecuteTime": {
     "end_time": "2019-06-08T04:00:48.870235Z",
     "start_time": "2019-06-08T04:00:47.931780Z"
    }
   },
   "outputs": [],
   "source": [
    "import h5py\n",
    "with open('C:/Users/nwang/Desktop/nlp/model/10x_model.json', 'w') as fp:\n",
    "    fp.write(model.to_json())\n",
    "model.save_weights('C:/Users/nwang/Desktop/nlp/model/10x_model.h5')"
   ]
  },
  {
   "cell_type": "code",
   "execution_count": 101,
   "metadata": {
    "ExecuteTime": {
     "end_time": "2019-06-08T03:53:48.074210Z",
     "start_time": "2019-06-08T03:53:47.802060Z"
    }
   },
   "outputs": [
    {
     "name": "stdout",
     "output_type": "stream",
     "text": [
      "75/75 [==============================] - 0s 833us/step\n"
     ]
    },
    {
     "data": {
      "image/png": "[encoded data removed]",
      "text/plain": [
       "<Figure size 432x288 with 1 Axes>"
      ]
     },
     "metadata": {
      "needs_background": "light"
     },
     "output_type": "display_data"
    }
   ],
   "source": [
    "plt.plot(history.history['loss'])\n",
    "plt.plot(history.history['acc'])\n",
    "\n",
    "loss, acc = model.evaluate(X_test_indices, Y_test_oh)"
   ]
  },
  {
   "cell_type": "code",
   "execution_count": 12,
   "metadata": {
    "ExecuteTime": {
     "end_time": "2019-06-18T20:00:24.229084Z",
     "start_time": "2019-06-18T20:00:22.807154Z"
    }
   },
   "outputs": [],
   "source": [
    "from keras.models import model_from_json\n",
    "\n",
    "with open('C:/Users/nwang/Desktop/nlp/model/10x_model.json','r') as fp:\n",
    "    xmodel=model_from_json(fp.read())\n",
    "xmodel.load_weights('C:/Users/nwang/Desktop/nlp/model/10x_model.h5')\n",
    "\n",
    "xmodel.compile(\n",
    "    loss='categorical_crossentropy', \n",
    "    optimizer='adam', \n",
    "#     metrics=[auc])\n",
    "    metrics=['accuracy'])"
   ]
  },
  {
   "cell_type": "code",
   "execution_count": 117,
   "metadata": {
    "ExecuteTime": {
     "end_time": "2019-06-08T04:01:04.554151Z",
     "start_time": "2019-06-08T04:01:04.377497Z"
    }
   },
   "outputs": [
    {
     "name": "stdout",
     "output_type": "stream",
     "text": [
      "172/172 [==============================] - 0s 958us/step\n"
     ]
    },
    {
     "data": {
      "text/plain": [
       "[0.00017713825726004448, 1.0]"
      ]
     },
     "execution_count": 117,
     "metadata": {},
     "output_type": "execute_result"
    }
   ],
   "source": [
    "model.evaluate(X_train_indices,Y_train_oh )"
   ]
  },
  {
   "cell_type": "code",
   "execution_count": 118,
   "metadata": {
    "ExecuteTime": {
     "end_time": "2019-06-08T04:01:05.316694Z",
     "start_time": "2019-06-08T04:01:05.222943Z"
    }
   },
   "outputs": [
    {
     "name": "stdout",
     "output_type": "stream",
     "text": [
      "75/75 [==============================] - 0s 1ms/step\n"
     ]
    },
    {
     "data": {
      "text/plain": [
       "[0.7869272623956204, 0.8266666666666667]"
      ]
     },
     "execution_count": 118,
     "metadata": {},
     "output_type": "execute_result"
    }
   ],
   "source": [
    "model.evaluate(X_test_indices,Y_test_oh )"
   ]
  },
  {
   "cell_type": "code",
   "execution_count": 18,
   "metadata": {
    "ExecuteTime": {
     "end_time": "2019-06-18T20:02:22.507509Z",
     "start_time": "2019-06-18T20:02:22.491878Z"
    }
   },
   "outputs": [
    {
     "data": {
      "text/plain": [
       "2"
      ]
     },
     "execution_count": 18,
     "metadata": {},
     "output_type": "execute_result"
    }
   ],
   "source": [
    "import numpy as np\n",
    "maxlen=10\n",
    "one_test = np.array(['at this moment i do not see any improvement needed'])\n",
    "one_index= sentences_to_indice(one_test, word_to_index, maxlen)\n",
    "np.argmax(xmodel.predict(one_index))"
   ]
  },
  {
   "cell_type": "code",
   "execution_count": 119,
   "metadata": {
    "ExecuteTime": {
     "end_time": "2019-06-08T04:01:14.911873Z",
     "start_time": "2019-06-08T04:01:14.896248Z"
    }
   },
   "outputs": [
    {
     "data": {
      "text/plain": [
       "(array(['How can you be a member without working for ual',\n",
       "        'have not had much experience on using this account yet',\n",
       "        'You have a great team of people working Great company',\n",
       "        'Not available in Arizona too difficult to use as primary',\n",
       "        'No notification communication about my checking account changes very disappointing',\n",
       "        'at this moment i do not see any improvement needed'], dtype=object),\n",
       " array([1, 2, 3, 1, 1, 2]))"
      ]
     },
     "execution_count": 119,
     "metadata": {},
     "output_type": "execute_result"
    }
   ],
   "source": [
    "X_test[:6],Y_test[:6]"
   ]
  },
  {
   "cell_type": "code",
   "execution_count": null,
   "metadata": {},
   "outputs": [],
   "source": []
  }
 ],
 "metadata": {
  "kernelspec": {
   "display_name": "Python 3",
   "language": "python",
   "name": "python3"
  },
  "language_info": {
   "codemirror_mode": {
    "name": "ipython",
    "version": 3
   },
   "file_extension": ".py",
   "mimetype": "text/x-python",
   "name": "python",
   "nbconvert_exporter": "python",
   "pygments_lexer": "ipython3",
   "version": "3.7.3"
  }
 },
 "nbformat": 4,
 "nbformat_minor": 2
}
